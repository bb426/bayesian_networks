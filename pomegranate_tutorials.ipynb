{
  "nbformat": 4,
  "nbformat_minor": 0,
  "metadata": {
    "colab": {
      "name": "pomegranate_tutorials",
      "provenance": [],
      "authorship_tag": "ABX9TyN9Pu9IwZrMjXW9C9nsFQz2",
      "include_colab_link": true
    },
    "kernelspec": {
      "display_name": "Python 3",
      "name": "python3"
    },
    "language_info": {
      "name": "python"
    }
  },
  "cells": [
    {
      "cell_type": "markdown",
      "metadata": {
        "id": "view-in-github",
        "colab_type": "text"
      },
      "source": [
        "<a href=\"https://colab.research.google.com/github/bb426/bayesian_networks/blob/main/pomegranate_tutorials.ipynb\" target=\"_parent\"><img src=\"https://colab.research.google.com/assets/colab-badge.svg\" alt=\"Open In Colab\"/></a>"
      ]
    },
    {
      "cell_type": "code",
      "metadata": {
        "colab": {
          "background_save": true
        },
        "id": "1qm6iz_xRJc4"
      },
      "source": [
        "from pomegranate import *"
      ],
      "execution_count": null,
      "outputs": []
    },
    {
      "cell_type": "code",
      "metadata": {
        "id": "13dDg-ETRNRt"
      },
      "source": [
        "rain = Node(DiscreteDistribution({\n",
        "    \"none\": 0.7,\n",
        "    \"light\": 0.2,\n",
        "    \"heavy\": 0.1\n",
        "}), name=\"rain\")\n"
      ],
      "execution_count": null,
      "outputs": []
    },
    {
      "cell_type": "code",
      "metadata": {
        "id": "YGSri_nwRtOk"
      },
      "source": [
        "maintenance = Node(ConditionalProbabilityTable([\n",
        "    [\"none\", \"yes\", 0.4],\n",
        "    [\"none\", \"no\", 0.6],\n",
        "    [\"light\", \"yes\", 0.2],\n",
        "    [\"light\", \"no\", 0.8],\n",
        "    [\"heavy\", \"yes\", 0.1],\n",
        "    [\"heavy\", \"no\", 0.9]\n",
        "], [rain.distribution]), name=\"maintenance\")"
      ],
      "execution_count": null,
      "outputs": []
    },
    {
      "cell_type": "code",
      "metadata": {
        "id": "vA06e_Xcfvg8"
      },
      "source": [
        "train = Node(ConditionalProbabilityTable([\n",
        "    [\"none\", \"yes\", \"on time\", 0.8],\n",
        "    [\"none\", \"yes\", \"delayed\", 0.2],\n",
        "    [\"none\", \"no\", \"on time\", 0.9],\n",
        "    [\"none\", \"no\", \"delayed\", 0.1],\n",
        "    [\"light\", \"yes\", \"on time\", 0.6],\n",
        "    [\"light\", \"yes\", \"delayed\", 0.4],\n",
        "    [\"light\", \"no\", \"on time\", 0.7],\n",
        "    [\"light\", \"no\", \"delayed\", 0.3],\n",
        "    [\"heavy\", \"yes\", \"on time\", 0.4],\n",
        "    [\"heavy\", \"yes\", \"delayed\", 0.6],\n",
        "    [\"heavy\", \"no\", \"on time\", 0.5],\n",
        "    [\"heavy\", \"no\", \"delayed\", 0.5],\n",
        "], [rain.distribution, maintenance.distribution]), name=\"train\")"
      ],
      "execution_count": null,
      "outputs": []
    },
    {
      "cell_type": "code",
      "metadata": {
        "id": "CRnLzRaivx4L"
      },
      "source": [
        "# Create a Bayesian Network and add states\n",
        "model = BayesianNetwork()\n",
        "model.add_states(rain, maintenance, train, appointment)\n",
        "\n",
        "# Add edges connecting nodes\n",
        "model.add_edge(rain, maintenance)\n",
        "model.add_edge(rain, train)\n",
        "model.add_edge(maintenance, train)\n",
        "model.add_edge(train, appointment)\n",
        "\n",
        "# Finalize model\n",
        "model.bake()"
      ],
      "execution_count": null,
      "outputs": []
    }
  ]
}